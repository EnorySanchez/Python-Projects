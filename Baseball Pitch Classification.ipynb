{
 "cells": [
  {
   "cell_type": "code",
   "execution_count": 20,
   "metadata": {},
   "outputs": [],
   "source": [
    "# Baseball Pitch Classification\n",
    "# Enory Sanchez"
   ]
  },
  {
   "cell_type": "code",
   "execution_count": 21,
   "metadata": {},
   "outputs": [],
   "source": [
    "# import libraries\n",
    "\n",
    "import pandas as pd\n",
    "import numpy as np\n",
    "import matplotlib.pyplot as plt "
   ]
  },
  {
   "cell_type": "code",
   "execution_count": 144,
   "metadata": {},
   "outputs": [],
   "source": [
    "data_2018=pd.read_csv('pitch_classification_data_2018.csv')\n",
    "data_2019=pd.read_csv('pitch_classification_data_2019.csv')"
   ]
  },
  {
   "cell_type": "code",
   "execution_count": 145,
   "metadata": {},
   "outputs": [
    {
     "data": {
      "text/plain": [
       "(700933, 18)"
      ]
     },
     "execution_count": 145,
     "metadata": {},
     "output_type": "execute_result"
    }
   ],
   "source": [
    "data_2018.shape"
   ]
  },
  {
   "cell_type": "code",
   "execution_count": 24,
   "metadata": {},
   "outputs": [
    {
     "data": {
      "text/plain": [
       "(20781, 17)"
      ]
     },
     "execution_count": 24,
     "metadata": {},
     "output_type": "execute_result"
    }
   ],
   "source": [
    "data_2019.shape"
   ]
  },
  {
   "cell_type": "code",
   "execution_count": 146,
   "metadata": {},
   "outputs": [],
   "source": [
    "data_2018=data_2018.dropna()"
   ]
  },
  {
   "cell_type": "code",
   "execution_count": 147,
   "metadata": {},
   "outputs": [],
   "source": [
    "# data_2018['ch']=(data_2018['pitch_type']=='CH').astype(int)\n",
    "data_2018['ch']=(data_2018['pitch_type']=='CH')"
   ]
  },
  {
   "cell_type": "code",
   "execution_count": 148,
   "metadata": {},
   "outputs": [
    {
     "name": "stdout",
     "output_type": "stream",
     "text": [
      "0          True\n",
      "1          True\n",
      "2         False\n",
      "3         False\n",
      "4         False\n",
      "          ...  \n",
      "700056    False\n",
      "700057    False\n",
      "700058    False\n",
      "700059    False\n",
      "700060    False\n",
      "Name: ch, Length: 700061, dtype: bool\n"
     ]
    }
   ],
   "source": [
    "print((data_2018['ch']))"
   ]
  },
  {
   "cell_type": "code",
   "execution_count": 149,
   "metadata": {},
   "outputs": [],
   "source": [
    "data_2018['cu']=(data_2018['pitch_type']=='CU')"
   ]
  },
  {
   "cell_type": "code",
   "execution_count": 150,
   "metadata": {},
   "outputs": [
    {
     "name": "stdout",
     "output_type": "stream",
     "text": [
      "0         False\n",
      "1         False\n",
      "2         False\n",
      "3         False\n",
      "4         False\n",
      "          ...  \n",
      "700056    False\n",
      "700057    False\n",
      "700058    False\n",
      "700059    False\n",
      "700060    False\n",
      "Name: cu, Length: 700061, dtype: bool\n"
     ]
    }
   ],
   "source": [
    "print(data_2018['cu'])"
   ]
  },
  {
   "cell_type": "code",
   "execution_count": 152,
   "metadata": {},
   "outputs": [],
   "source": [
    "data_2018['fc']=(data_2018['pitch_type']=='FC')"
   ]
  },
  {
   "cell_type": "code",
   "execution_count": 153,
   "metadata": {},
   "outputs": [],
   "source": [
    "data_2018['ff']=(data_2018['pitch_type']=='FF')"
   ]
  },
  {
   "cell_type": "code",
   "execution_count": 154,
   "metadata": {},
   "outputs": [],
   "source": [
    "data_2018['fs']=(data_2018['pitch_type']=='FS')"
   ]
  },
  {
   "cell_type": "code",
   "execution_count": 155,
   "metadata": {},
   "outputs": [],
   "source": [
    "data_2018['ft']=(data_2018['pitch_type']=='FT')"
   ]
  },
  {
   "cell_type": "code",
   "execution_count": 156,
   "metadata": {},
   "outputs": [],
   "source": [
    "data_2018['sl']=(data_2018['pitch_type']=='SL')"
   ]
  },
  {
   "cell_type": "code",
   "execution_count": 157,
   "metadata": {},
   "outputs": [
    {
     "data": {
      "text/plain": [
       "year              0\n",
       "pitcher_id        0\n",
       "pitcher_throws    0\n",
       "pitch_type        0\n",
       "release_x         0\n",
       "release_z         0\n",
       "release_speed     0\n",
       "horzbreak         0\n",
       "vertbreak         0\n",
       "extension         0\n",
       "spin_rate         0\n",
       "spin_direction    0\n",
       "vx0               0\n",
       "vy0               0\n",
       "vz0               0\n",
       "ax0               0\n",
       "ay0               0\n",
       "az0               0\n",
       "ch                0\n",
       "cu                0\n",
       "fc                0\n",
       "ff                0\n",
       "fs                0\n",
       "ft                0\n",
       "sl                0\n",
       "dtype: int64"
      ]
     },
     "execution_count": 157,
     "metadata": {},
     "output_type": "execute_result"
    }
   ],
   "source": [
    "data_2018.isna().sum()"
   ]
  },
  {
   "cell_type": "code",
   "execution_count": 158,
   "metadata": {},
   "outputs": [
    {
     "name": "stdout",
     "output_type": "stream",
     "text": [
      "   year  pitcher_id pitcher_throws pitch_type  release_x  release_z  \\\n",
      "0  2018       20698              R         CH  -2.034911   6.213103   \n",
      "1  2018       16638              L         CH   3.259136   5.028627   \n",
      "2  2018       16638              L         FF   3.224174   5.201939   \n",
      "3  2018       16638              L         SL   3.224810   5.194945   \n",
      "4  2018       20698              R         SL  -2.337965   6.470610   \n",
      "\n",
      "   release_speed  horzbreak  vertbreak  extension  ...        ax0        ay0  \\\n",
      "0      89.697380 -15.017980   3.152398   6.344611  ... -13.479315  26.753189   \n",
      "1      86.783730  20.663362   0.784354   5.793740  ...  20.387815  28.296223   \n",
      "2      96.413147  16.733630  11.998454   6.057902  ...  22.201469  35.377811   \n",
      "3      77.249260 -17.527173  -2.600898   5.732899  ...  -9.222150  22.306944   \n",
      "4      89.277313   9.387282   0.212597   5.365108  ...   8.867598  28.896862   \n",
      "\n",
      "         az0     ch     cu     fc     ff     fs     ft     sl  \n",
      "0 -27.348331   True  False  False  False  False  False  False  \n",
      "1 -30.899782   True  False  False  False  False  False  False  \n",
      "2 -18.615768  False  False  False   True  False  False  False  \n",
      "3 -33.242878  False  False  False  False  False  False   True  \n",
      "4 -30.750540  False  False  False  False  False  False   True  \n",
      "\n",
      "[5 rows x 25 columns]\n"
     ]
    }
   ],
   "source": [
    "print(data_2018.head())"
   ]
  },
  {
   "cell_type": "code",
   "execution_count": 159,
   "metadata": {},
   "outputs": [],
   "source": [
    "right_2018=data_2018[data_2018['pitcher_throws']=='R']"
   ]
  },
  {
   "cell_type": "code",
   "execution_count": 160,
   "metadata": {},
   "outputs": [],
   "source": [
    "left_2018=data_2018[data_2018['pitcher_throws']!='R']"
   ]
  },
  {
   "cell_type": "code",
   "execution_count": 161,
   "metadata": {},
   "outputs": [
    {
     "name": "stdout",
     "output_type": "stream",
     "text": [
      "   year  pitcher_id pitcher_throws pitch_type  release_x  release_z  \\\n",
      "0  2018       20698              R         CH  -2.034911   6.213103   \n",
      "4  2018       20698              R         SL  -2.337965   6.470610   \n",
      "5  2018       20698              R         FF  -1.989623   6.325362   \n",
      "6  2018       20698              R         FF  -2.022166   6.236394   \n",
      "7  2018       20698              R         SL  -2.091985   6.468010   \n",
      "\n",
      "   release_speed  horzbreak  vertbreak  extension  ...        ax0        ay0  \\\n",
      "0      89.697380 -15.017980   3.152398   6.344611  ... -13.479315  26.753189   \n",
      "4      89.277313   9.387282   0.212597   5.365108  ...   8.867598  28.896862   \n",
      "5      94.628204  -6.882188  15.838761   5.920538  ...  -6.812538  32.953907   \n",
      "6      96.422432  -5.536707  19.226685   6.114052  ...  -5.707225  33.896370   \n",
      "7      87.095291   5.886112  -0.440767   5.508231  ...   5.790992  25.831722   \n",
      "\n",
      "         az0     ch     cu     fc     ff     fs     ft     sl  \n",
      "0 -27.348331   True  False  False  False  False  False  False  \n",
      "4 -30.750540  False  False  False  False  False  False   True  \n",
      "5 -13.553108  False  False  False   True  False  False  False  \n",
      "6  -8.842151  False  False  False   True  False  False  False  \n",
      "7 -30.847479  False  False  False  False  False  False   True  \n",
      "\n",
      "[5 rows x 25 columns]\n"
     ]
    }
   ],
   "source": [
    "print(right_2018.head())"
   ]
  },
  {
   "cell_type": "code",
   "execution_count": 162,
   "metadata": {},
   "outputs": [
    {
     "name": "stdout",
     "output_type": "stream",
     "text": [
      "    year  pitcher_id pitcher_throws pitch_type  release_x  release_z  \\\n",
      "1   2018       16638              L         CH   3.259136   5.028627   \n",
      "2   2018       16638              L         FF   3.224174   5.201939   \n",
      "3   2018       16638              L         SL   3.224810   5.194945   \n",
      "8   2018       16638              L         FF   3.113298   5.304493   \n",
      "11  2018       16638              L         CH   3.291917   4.885665   \n",
      "\n",
      "    release_speed  horzbreak  vertbreak  extension  ...        ax0        ay0  \\\n",
      "1       86.783730  20.663362   0.784354   5.793740  ...  20.387815  28.296223   \n",
      "2       96.413147  16.733630  11.998454   6.057902  ...  22.201469  35.377811   \n",
      "3       77.249260 -17.527173  -2.600898   5.732899  ...  -9.222150  22.306944   \n",
      "8       96.297241  11.006775  15.222228   6.277004  ...  16.530367  33.807808   \n",
      "11      85.327797  18.520759   3.456842   6.128929  ...  18.328274  25.981554   \n",
      "\n",
      "          az0     ch     cu     fc     ff     fs     ft     sl  \n",
      "1  -30.899782   True  False  False  False  False  False  False  \n",
      "2  -18.615768  False  False  False   True  False  False  False  \n",
      "3  -33.242878  False  False  False  False  False  False   True  \n",
      "8  -15.008617  False  False  False   True  False  False  False  \n",
      "11 -28.604763   True  False  False  False  False  False  False  \n",
      "\n",
      "[5 rows x 25 columns]\n"
     ]
    }
   ],
   "source": [
    "print(left_2018.head())"
   ]
  },
  {
   "cell_type": "code",
   "execution_count": 163,
   "metadata": {},
   "outputs": [],
   "source": [
    "#Build multiple datasets\n",
    "# pred r/l ch/cu/fc/ff/fs/ft/sl\n",
    "# targ r/l ch/cu/fc/ff/fs/ft/sl\n",
    "\n",
    "# r/l ch/cu/fc/ff/fs/ft/sl"
   ]
  },
  {
   "cell_type": "code",
   "execution_count": 164,
   "metadata": {},
   "outputs": [],
   "source": [
    "rch=right_2018[['release_x','release_z', 'release_speed', \n",
    "'horzbreak','vertbreak', 'extension', 'spin_rate', \n",
    "'spin_direction', 'vx0', 'vy0', 'vz0', 'ax0', 'ay0', 'az0','ch']]\n",
    "\n",
    "rcu=right_2018[['release_x','release_z', 'release_speed', \n",
    "'horzbreak','vertbreak', 'extension', 'spin_rate', \n",
    "'spin_direction', 'vx0', 'vy0', 'vz0', 'ax0', 'ay0', 'az0','cu']]\n",
    "\n",
    "rfc=right_2018[['release_x','release_z', 'release_speed', \n",
    "'horzbreak','vertbreak', 'extension', 'spin_rate', \n",
    "'spin_direction', 'vx0', 'vy0', 'vz0', 'ax0', 'ay0', 'az0','fc']]\n",
    "\n",
    "rff=right_2018[['release_x','release_z', 'release_speed', \n",
    "'horzbreak','vertbreak', 'extension', 'spin_rate', \n",
    "'spin_direction', 'vx0', 'vy0', 'vz0', 'ax0', 'ay0', 'az0', 'ff']]\n",
    "\n",
    "rfs=right_2018[['release_x','release_z', 'release_speed', \n",
    "'horzbreak','vertbreak', 'extension', 'spin_rate', \n",
    "'spin_direction', 'vx0', 'vy0', 'vz0', 'ax0', 'ay0', 'az0','fs']]\n",
    "\n",
    "rft=right_2018[['release_x','release_z', 'release_speed', \n",
    "'horzbreak','vertbreak', 'extension', 'spin_rate', \n",
    "'spin_direction', 'vx0', 'vy0', 'vz0', 'ax0', 'ay0', 'az0','ft']]\n",
    "\n",
    "rsl=right_2018[['release_x','release_z', 'release_speed', \n",
    "'horzbreak','vertbreak', 'extension', 'spin_rate', \n",
    "'spin_direction', 'vx0', 'vy0', 'vz0', 'ax0', 'ay0', 'az0','sl']]\n",
    "\n",
    "lch=left_2018[['release_x','release_z', 'release_speed', \n",
    "'horzbreak','vertbreak', 'extension', 'spin_rate', \n",
    "'spin_direction', 'vx0', 'vy0', 'vz0', 'ax0', 'ay0', 'az0','ch']]\n",
    "\n",
    "lcu=left_2018[['release_x','release_z', 'release_speed', \n",
    "'horzbreak','vertbreak', 'extension', 'spin_rate', \n",
    "'spin_direction', 'vx0', 'vy0', 'vz0', 'ax0', 'ay0', 'az0','cu']]\n",
    "\n",
    "lfc=left_2018[['release_x','release_z', 'release_speed', \n",
    "'horzbreak','vertbreak', 'extension', 'spin_rate', \n",
    "'spin_direction', 'vx0', 'vy0', 'vz0', 'ax0', 'ay0', 'az0','fc']]\n",
    "\n",
    "lff=left_2018[['release_x','release_z', 'release_speed', \n",
    "'horzbreak','vertbreak', 'extension', 'spin_rate', \n",
    "'spin_direction', 'vx0', 'vy0', 'vz0', 'ax0', 'ay0', 'az0','ff']]\n",
    "\n",
    "lfs=left_2018[['release_x','release_z', 'release_speed', \n",
    "'horzbreak','vertbreak', 'extension', 'spin_rate', \n",
    "'spin_direction', 'vx0', 'vy0', 'vz0', 'ax0', 'ay0', 'az0','fs']]\n",
    "\n",
    "lft=left_2018[['release_x','release_z', 'release_speed', \n",
    "'horzbreak','vertbreak', 'extension', 'spin_rate', \n",
    "'spin_direction', 'vx0', 'vy0', 'vz0', 'ax0', 'ay0', 'az0','ft']]\n",
    "\n",
    "lsl=left_2018[['release_x','release_z', 'release_speed', \n",
    "'horzbreak','vertbreak', 'extension', 'spin_rate', \n",
    "'spin_direction', 'vx0', 'vy0', 'vz0', 'ax0', 'ay0', 'az0','sl']]"
   ]
  },
  {
   "cell_type": "code",
   "execution_count": 165,
   "metadata": {},
   "outputs": [],
   "source": [
    "xrch=rch.drop(['ch'], axis=1).values\n",
    "yrch=rch['ch']\n",
    "xrcu=rcu.drop(['cu'], axis=1).values\n",
    "yrcu=rcu['cu']\n",
    "xrfc=rfc.drop(['fc'], axis=1).values\n",
    "yrfc=rfc['fc']\n",
    "xrff=rff.drop(['ff'], axis=1).values\n",
    "yrff=rff['ff']\n",
    "xrfs=rfs.drop(['fs'], axis=1).values\n",
    "yrfs=rfs['fs']\n",
    "xrft=rft.drop(['ft'], axis=1).values\n",
    "yrft=rft['ft']\n",
    "xrsl=rsl.drop(['sl'], axis=1).values\n",
    "yrsl=rsl['sl']\n",
    "\n",
    "xlch=lch.drop(['ch'], axis=1).values\n",
    "ylch=lch['ch']\n",
    "xlcu=lcu.drop(['cu'], axis=1).values\n",
    "ylcu=lcu['cu']\n",
    "xlfc=lfc.drop(['fc'], axis=1).values\n",
    "ylfc=lfc['fc']\n",
    "xlff=lff.drop(['ff'], axis=1).values\n",
    "ylff=lff['ff']\n",
    "xlfs=lfs.drop(['fs'], axis=1).values\n",
    "ylfs=lfs['fs']\n",
    "xlft=lft.drop(['ft'], axis=1).values\n",
    "ylft=lft['ft']\n",
    "xlsl=lsl.drop(['sl'], axis=1).values\n",
    "ylsl=lsl['sl']"
   ]
  },
  {
   "cell_type": "code",
   "execution_count": 166,
   "metadata": {},
   "outputs": [],
   "source": [
    "#import libraries\n",
    "from sklearn.model_selection import train_test_split\n",
    "from sklearn.tree import DecisionTreeClassifier\n",
    "from sklearn.metrics import accuracy_score"
   ]
  },
  {
   "cell_type": "code",
   "execution_count": 167,
   "metadata": {},
   "outputs": [],
   "source": [
    "#start model\n",
    "dt=DecisionTreeClassifier(max_depth=14, random_state=1)"
   ]
  },
  {
   "cell_type": "code",
   "execution_count": 168,
   "metadata": {},
   "outputs": [],
   "source": [
    "# Split training and test data\n",
    "\n",
    "#Right\n",
    "chrxtrain, chrxtest, chrytrain, chrytest = train_test_split(xrch,yrch,test_size=0.2, random_state=1)\n",
    "curxtrain, curxtest, curytrain, curytest = train_test_split(xrcu,yrcu,test_size=0.2, random_state=1)\n",
    "fcrxtrain, fcrxtest, fcrytrain, fcrytest = train_test_split(xrfc,yrfc,test_size=0.2, random_state=1)\n",
    "ffrxtrain, ffrxtest, ffrytrain, ffrytest = train_test_split(xrff,yrff,test_size=0.2, random_state=1)\n",
    "fsrxtrain, fsrxtest, fsrytrain, fsrytest = train_test_split(xrfs,yrfs,test_size=0.2, random_state=1)\n",
    "ftrxtrain, ftrxtest, ftrytrain, ftrytest = train_test_split(xrft,yrft,test_size=0.2, random_state=1)\n",
    "slrxtrain, slrxtest, slrytrain, slrytest = train_test_split(xrsl,yrsl,test_size=0.2, random_state=1)\n",
    "\n",
    "#Left\n",
    "chlxtrain, chlxtest, chlytrain, chlytest = train_test_split(xlch,ylch,test_size=0.2, random_state=1)\n",
    "culxtrain, culxtest, culytrain, culytest = train_test_split(xlcu,ylcu,test_size=0.2, random_state=1)\n",
    "fclxtrain, fclxtest, fclytrain, fclytest = train_test_split(xlfc,ylfc,test_size=0.2, random_state=1)\n",
    "fflxtrain, fflxtest, fflytrain, fflytest = train_test_split(xlff,ylff,test_size=0.2, random_state=1)\n",
    "fslxtrain, fslxtest, fslytrain, fslytest = train_test_split(xlfs,ylfs,test_size=0.2, random_state=1)\n",
    "ftlxtrain, ftlxtest, ftlytrain, ftlytest = train_test_split(xlft,ylft,test_size=0.2, random_state=1)\n",
    "sllxtrain, sllxtest, sllytrain, sllytest = train_test_split(xlsl,ylsl,test_size=0.2, random_state=1)\n"
   ]
  },
  {
   "cell_type": "code",
   "execution_count": 169,
   "metadata": {},
   "outputs": [
    {
     "data": {
      "text/plain": [
       "DecisionTreeClassifier(max_depth=14, random_state=1)"
      ]
     },
     "execution_count": 169,
     "metadata": {},
     "output_type": "execute_result"
    }
   ],
   "source": [
    "dt.fit(chrxtrain, chrytrain)"
   ]
  },
  {
   "cell_type": "code",
   "execution_count": 170,
   "metadata": {},
   "outputs": [],
   "source": [
    "chrypred=dt.predict(chrxtest)"
   ]
  },
  {
   "cell_type": "code",
   "execution_count": 171,
   "metadata": {},
   "outputs": [
    {
     "data": {
      "text/plain": [
       "0.9691880123207818"
      ]
     },
     "execution_count": 171,
     "metadata": {},
     "output_type": "execute_result"
    }
   ],
   "source": [
    "accuracy_score(chrytest, chrypred)"
   ]
  },
  {
   "cell_type": "code",
   "execution_count": 173,
   "metadata": {},
   "outputs": [
    {
     "data": {
      "text/plain": [
       "0.9821007534940653"
      ]
     },
     "execution_count": 173,
     "metadata": {},
     "output_type": "execute_result"
    }
   ],
   "source": [
    "dt.fit(curxtrain, curytrain)\n",
    "curypred=dt.predict(curxtest)\n",
    "accuracy_score(curytest, curypred)"
   ]
  },
  {
   "cell_type": "code",
   "execution_count": 175,
   "metadata": {},
   "outputs": [
    {
     "data": {
      "text/plain": [
       "DecisionTreeClassifier(max_depth=14, random_state=1)"
      ]
     },
     "execution_count": 175,
     "metadata": {},
     "output_type": "execute_result"
    }
   ],
   "source": [
    "dt.fit(fcrxtrain, fcrytrain)"
   ]
  },
  {
   "cell_type": "code",
   "execution_count": 176,
   "metadata": {},
   "outputs": [],
   "source": [
    "fcrypred=dt.predict(fcrxtest)"
   ]
  },
  {
   "cell_type": "code",
   "execution_count": 179,
   "metadata": {},
   "outputs": [
    {
     "data": {
      "text/plain": [
       "0.9629874885872237"
      ]
     },
     "execution_count": 179,
     "metadata": {},
     "output_type": "execute_result"
    }
   ],
   "source": [
    "accuracy_score(fcrytest, fcrypred)"
   ]
  },
  {
   "cell_type": "code",
   "execution_count": 180,
   "metadata": {},
   "outputs": [
    {
     "data": {
      "text/plain": [
       "0.952041256559211"
      ]
     },
     "execution_count": 180,
     "metadata": {},
     "output_type": "execute_result"
    }
   ],
   "source": [
    "dt.fit(ffrxtrain, ffrytrain)\n",
    "ffrypred=dt.predict(ffrxtest)\n",
    "accuracy_score(ffrytest, ffrypred)"
   ]
  },
  {
   "cell_type": "code",
   "execution_count": 181,
   "metadata": {},
   "outputs": [
    {
     "data": {
      "text/plain": [
       "0.9859635393151331"
      ]
     },
     "execution_count": 181,
     "metadata": {},
     "output_type": "execute_result"
    }
   ],
   "source": [
    "dt.fit(fsrxtrain, fsrytrain)\n",
    "fsrypred=dt.predict(fsrxtest)\n",
    "accuracy_score(fsrytest, fsrypred)"
   ]
  },
  {
   "cell_type": "code",
   "execution_count": 182,
   "metadata": {},
   "outputs": [
    {
     "data": {
      "text/plain": [
       "0.9470346848067102"
      ]
     },
     "execution_count": 182,
     "metadata": {},
     "output_type": "execute_result"
    }
   ],
   "source": [
    "dt.fit(ftrxtrain, ftrytrain)\n",
    "ftrypred=dt.predict(ftrxtest)\n",
    "accuracy_score(ftrytest, ftrypred)"
   ]
  },
  {
   "cell_type": "code",
   "execution_count": 183,
   "metadata": {},
   "outputs": [
    {
     "data": {
      "text/plain": [
       "0.9535462380479387"
      ]
     },
     "execution_count": 183,
     "metadata": {},
     "output_type": "execute_result"
    }
   ],
   "source": [
    "dt.fit(slrxtrain, slrytrain)\n",
    "slrypred=dt.predict(slrxtest)\n",
    "accuracy_score(slrytest, slrypred)"
   ]
  },
  {
   "cell_type": "code",
   "execution_count": 185,
   "metadata": {},
   "outputs": [
    {
     "data": {
      "text/plain": [
       "0.9823517747372595"
      ]
     },
     "execution_count": 185,
     "metadata": {},
     "output_type": "execute_result"
    }
   ],
   "source": [
    "dt.fit(chlxtrain, chlytrain)\n",
    "chlypred=dt.predict(chlxtest)\n",
    "accuracy_score(chlytest, chlypred)"
   ]
  },
  {
   "cell_type": "code",
   "execution_count": 186,
   "metadata": {},
   "outputs": [
    {
     "data": {
      "text/plain": [
       "0.9862928812214952"
      ]
     },
     "execution_count": 186,
     "metadata": {},
     "output_type": "execute_result"
    }
   ],
   "source": [
    "dt.fit(culxtrain, culytrain)\n",
    "culypred=dt.predict(culxtest)\n",
    "accuracy_score(culytest, culypred)"
   ]
  },
  {
   "cell_type": "code",
   "execution_count": 187,
   "metadata": {},
   "outputs": [
    {
     "data": {
      "text/plain": [
       "0.9746678564346619"
      ]
     },
     "execution_count": 187,
     "metadata": {},
     "output_type": "execute_result"
    }
   ],
   "source": [
    "dt.fit(fclxtrain, fclytrain)\n",
    "fclypred=dt.predict(fclxtest)\n",
    "accuracy_score(fclytest, fclypred)"
   ]
  },
  {
   "cell_type": "code",
   "execution_count": 188,
   "metadata": {},
   "outputs": [
    {
     "data": {
      "text/plain": [
       "0.9514178068609954"
      ]
     },
     "execution_count": 188,
     "metadata": {},
     "output_type": "execute_result"
    }
   ],
   "source": [
    "dt.fit(fflxtrain, fflytrain)\n",
    "fflypred=dt.predict(fflxtest)\n",
    "accuracy_score(fflytest, fflypred)"
   ]
  },
  {
   "cell_type": "code",
   "execution_count": 189,
   "metadata": {},
   "outputs": [
    {
     "data": {
      "text/plain": [
       "0.9944725361887765"
      ]
     },
     "execution_count": 189,
     "metadata": {},
     "output_type": "execute_result"
    }
   ],
   "source": [
    "dt.fit(fslxtrain, fslytrain)\n",
    "fslypred=dt.predict(fslxtest)\n",
    "accuracy_score(fslytest, fslypred)"
   ]
  },
  {
   "cell_type": "code",
   "execution_count": 190,
   "metadata": {},
   "outputs": [
    {
     "data": {
      "text/plain": [
       "0.9522605591909578"
      ]
     },
     "execution_count": 190,
     "metadata": {},
     "output_type": "execute_result"
    }
   ],
   "source": [
    "dt.fit(ftlxtrain, ftlytrain)\n",
    "ftlypred=dt.predict(ftlxtest)\n",
    "accuracy_score(ftlytest, ftlypred)"
   ]
  },
  {
   "cell_type": "code",
   "execution_count": 191,
   "metadata": {},
   "outputs": [
    {
     "data": {
      "text/plain": [
       "0.9667360697997224"
      ]
     },
     "execution_count": 191,
     "metadata": {},
     "output_type": "execute_result"
    }
   ],
   "source": [
    "dt.fit(sllxtrain, sllytrain)\n",
    "sllypred=dt.predict(sllxtest)\n",
    "accuracy_score(sllytest, sllypred)"
   ]
  }
 ],
 "metadata": {
  "interpreter": {
   "hash": "f01e4d6575af6c540b28b68f014a80d17ab8892cf4a731d9fdc5ed11234fe473"
  },
  "kernelspec": {
   "display_name": "Python 3.8.3 64-bit",
   "name": "python3"
  },
  "language_info": {
   "codemirror_mode": {
    "name": "ipython",
    "version": 3
   },
   "file_extension": ".py",
   "mimetype": "text/x-python",
   "name": "python",
   "nbconvert_exporter": "python",
   "pygments_lexer": "ipython3",
   "version": "3.8.3"
  }
 },
 "nbformat": 4,
 "nbformat_minor": 4
}
